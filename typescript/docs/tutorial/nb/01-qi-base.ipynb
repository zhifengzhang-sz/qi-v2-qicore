{
 "cells": [
  {
   "id": "cell-0",
   "cell_type": "markdown",
   "metadata": {},
   "source": "# QiCore Base - Framework for Modern TypeScript Development\n\n**The reality of modern development:**\n- APIs everywhere: REST, GraphQL, MCP servers, LLM APIs\n- Data sources: databases, files, streams, external services  \n- AI era integration: agents, toolsets, service orchestration\n- Internet-first applications with multiple failure points\n\n**The need:** A lightweight, extensible framework to handle failures systematically.\n\n**What `@qi/base` provides:**\n- **Result<T>**: Generic pattern that works across all integration scenarios\n- **QiError framework**: Base structure that you extend for your specific domains\n- **Lightweight**: No heavy dependencies, works everywhere\n- **Extensible**: Build domain-specific error handling on the foundation\n\n**Working directory:** `typescript/docs/tutorial/nb/`"
  },
  {
   "id": "cell-1",
   "cell_type": "markdown",
   "execution_count": null,
   "metadata": {},
   "outputs": [],
   "source": "## Setup and Environment\n\nEnsure you're running this notebook from the correct working directory:\n\n```bash\ncd typescript/docs/tutorial/nb\njupyter lab  # or code . for VSCode\n```\n\n**Required setup:**\n1. QiCore packages built: `cd typescript && bun run build`\n2. Deno Jupyter kernel installed: `deno jupyter --install`\n3. Working directory: `typescript/docs/tutorial/nb/`\n\nVerify your environment:"
  },
  {
   "id": "cell-2",
   "cell_type": "code",
   "metadata": {},
   "source": "// Verify TypeScript and imports work\nconsole.log(\"Working directory:\", Deno.cwd())\nconsole.log(\"TypeScript version:\", (globalThis as any).Deno?.version?.typescript || \"unknown\")\n\n// Test @qi/base import\ntry {\n    const { success } = await import(\"@qi/base\")\n    console.log(\"✅ @qi/base import successful\")\n    console.log(\"Sample Result:\", success(42))\n} catch (error) {\n    console.error(\"❌ Import failed:\", error.message)\n    console.log(\"Check: bun run build in typescript/ directory\")\n}",
   "execution_count": null,
   "outputs": []
  },
  {
   "id": "cell-3",
   "cell_type": "markdown",
   "execution_count": null,
   "metadata": {},
   "outputs": [],
   "source": "## The Challenge: Multiple Services, Multiple Failures\n\nModern applications integrate with numerous external dependencies:\n\n```typescript\n// Your typical application calls\nawait fetchUserProfile(userId)    // Auth service - can fail\nawait getUserPreferences(userId)  // Database - can fail  \nawait logEvent(event)             // Analytics API - can fail\nawait processPayment(amount)      // Payment gateway - can fail\nawait sendNotification(message)   // Email service - can fail\n```\n\nEach service can fail in different ways. How do you handle this systematically without ending up with inconsistent error handling across your codebase?"
  },
  {
   "id": "cell-4",
   "cell_type": "code",
   "execution_count": null,
   "metadata": {},
   "outputs": [],
   "source": "// Example: Exception-based error handling (problematic)\ninterface User {\n    id: string\n    name: string\n    email: string\n}\n\nfunction getUserById(id: string): User {\n    if (!id) {\n        throw new Error(\"ID required\")  // Hidden in signature\n    }\n    if (id === \"404\") {\n        throw new Error(\"User not found\")  // Hidden in signature\n    }\n    if (id === \"500\") {\n        throw new Error(\"Database error\")  // Hidden in signature\n    }\n    \n    return { id, name: `User ${id}`, email: `user${id}@example.com` }\n}\n\n// Usage requires defensive programming\ntry {\n    const user = getUserById(\"123\")\n    console.log(\"Success:\", user)\n} catch (error) {\n    console.log(\"Error:\", error.message)\n    // How do we know what kind of error this is?\n    // Should we retry? Fix input? Report to user?\n}"
  },
  {
   "id": "cell-5",
   "cell_type": "markdown",
   "metadata": {},
   "source": "## QiCore Base: Framework Architecture\n\n**Two-layer design:**\n\n### 1. Result<T> - The Generic Container\n```typescript\ntype Result<T, E = QiError> = \n  | { readonly tag: 'success'; readonly value: T }\n  | { readonly tag: 'failure'; readonly error: E }\n```\nWorks with any data type, any error type. Handles all your integration scenarios.\n\n### 2. QiError - The Framework Foundation\n```typescript\ninterface QiError {\n  readonly code: string\n  readonly message: string  \n  readonly category: ErrorCategory\n  readonly context: Record<string, unknown>\n}\n```\n\n**Critical insight:** QiError is a *framework* that you extend. `@qi/base` sets up the structure - you build your domain-specific errors on top."
  },
  {
   "id": "cell-6",
   "cell_type": "code",
   "execution_count": null,
   "metadata": {},
   "outputs": [],
   "source": "// Import core Result types and functions\nimport { \n    Result, success, failure, match, \n    validationError, systemError, businessError,\n    type QiError \n} from '@qi/base'\n\n// Result-based implementation - explicit error handling\nfunction getUserByIdSafe(id: string): Result<User, QiError> {\n    if (!id) {\n        return failure(validationError(\"ID required\"))\n    }\n    if (id === \"404\") {\n        return failure(businessError(\"User not found\"))\n    }\n    if (id === \"500\") {\n        return failure(systemError(\"Database error\"))\n    }\n    \n    return success({ id, name: `User ${id}`, email: `user${id}@example.com` })\n}\n\n// Function signature now explicitly shows it can fail:\n// getUserByIdSafe(id: string): Result<User, QiError>\n\nconsole.log(\"Function signature explicitly shows failure cases\")\nconsole.log(\"Type system enforces error handling\")"
  },
  {
   "id": "cell-7",
   "cell_type": "code",
   "execution_count": null,
   "metadata": {},
   "outputs": [],
   "source": "// Pattern matching for exhaustive case handling\nconst result1 = getUserByIdSafe(\"123\")\nconst result2 = getUserByIdSafe(\"\")\nconst result3 = getUserByIdSafe(\"404\")\n\n// match() ensures both success and failure cases are handled\nmatch(\n    (user) => console.log(\"Success:\", user),\n    (error) => console.log(\"Error:\", error.message, \"Category:\", error.category),\n    result1\n)\n\nmatch(\n    (user) => console.log(\"Success:\", user),\n    (error) => console.log(\"Error:\", error.message, \"Category:\", error.category),\n    result2\n)\n\nmatch(\n    (user) => console.log(\"Success:\", user),\n    (error) => console.log(\"Error:\", error.message, \"Category:\", error.category),\n    result3\n)"
  },
  {
   "id": "cell-8",
   "cell_type": "markdown",
   "execution_count": null,
   "metadata": {},
   "outputs": [],
   "source": "## The Framework in Action: Domain-Specific Extensions\n\nQiError provides the base framework. Each domain extends it with specific categories and context:\n\n### Payment Domain Extension\n```typescript\ninterface PaymentError extends QiError {\n  category: 'VALIDATION' | 'NETWORK' | 'BUSINESS'  // Domain-specific subset\n  context: {\n    paymentId?: string\n    amount?: number\n    provider?: 'stripe' | 'paypal'\n    declineReason?: string\n  }\n}\n```\n\n### API Integration Extension  \n```typescript\ninterface APIError extends QiError {\n  category: 'NETWORK' | 'AUTHENTICATION' | 'SYSTEM'\n  context: {\n    endpoint: string\n    method: string\n    statusCode?: number\n    retryAttempt?: number\n  }\n}\n```\n\nThe framework approach: consistent structure across all domains."
  },
  {
   "id": "cell-9",
   "cell_type": "code",
   "metadata": {},
   "source": "// Building domain-specific errors on the QiError framework\nimport { QiError, ErrorCategory } from '@qi/base'\n\n// Payment domain extension\ninterface PaymentError extends QiError {\n    category: 'VALIDATION' | 'NETWORK' | 'BUSINESS'\n    context: {\n        paymentId?: string\n        amount?: number\n        provider?: string\n        declineReason?: string\n    }\n}\n\n// Factory function following the framework pattern\nfunction createPaymentError(\n    code: string,\n    message: string,\n    category: PaymentError['category'],\n    context: PaymentError['context'] = {}\n): PaymentError {\n    return { code, message, category, context }\n}\n\n// Usage examples\nconst errors = [\n    createPaymentError('INSUFFICIENT_FUNDS', 'Card declined', 'BUSINESS', {\n        paymentId: 'pay_123',\n        amount: 5000,\n        declineReason: 'insufficient_funds'\n    }),\n    createPaymentError('GATEWAY_TIMEOUT', 'Payment gateway timeout', 'NETWORK', {\n        paymentId: 'pay_123',\n        provider: 'stripe'\n    }),\n    createPaymentError('INVALID_AMOUNT', 'Amount must be positive', 'VALIDATION', {\n        amount: -100\n    })\n]\n\nconsole.log(\"Domain-specific errors built on QiError framework:\")\nerrors.forEach(error => {\n    console.log(`${error.code}: ${error.message} [${error.category}]`)\n    console.log(`Context:`, error.context)\n})",
   "execution_count": null,
   "outputs": []
  },
  {
   "id": "cell-10",
   "cell_type": "markdown",
   "execution_count": null,
   "metadata": {},
   "outputs": [],
   "source": "## Functional Composition Patterns\n\nResult<T> supports functional composition through map, flatMap, and other combinators. This enables safe chaining of operations that might fail."
  },
  {
   "id": "cell-11",
   "cell_type": "code",
   "execution_count": null,
   "metadata": {},
   "outputs": [],
   "source": "// Functional composition with map and flatMap\nimport { map, flatMap } from '@qi/base'\n\n// map: transform success values, pass through errors\nconst result = success(42)\nconst doubled = map((x: number) => x * 2, result)\nconst stringified = map((x: number) => `Value: ${x}`, doubled)\n\nconsole.log(\"map chain:\", stringified)\n\n// flatMap: chain operations that return Results\nfunction parseNumber(s: string): Result<number, QiError> {\n    const n = parseInt(s, 10)\n    if (isNaN(n)) {\n        return failure(validationError(\"Not a number\"))\n    }\n    return success(n)\n}\n\nfunction sqrt(n: number): Result<number, QiError> {\n    if (n < 0) {\n        return failure(validationError(\"Cannot sqrt negative\"))\n    }\n    return success(Math.sqrt(n))\n}\n\n// Chain operations - error in any step stops the chain\nconst chainResult = flatMap(sqrt, parseNumber(\"16\"))\nconsole.log(\"Chain success:\", chainResult)\n\nconst chainError = flatMap(sqrt, parseNumber(\"invalid\"))\nconsole.log(\"Chain error:\", chainError)"
  },
  {
   "id": "cell-12",
   "cell_type": "markdown",
   "execution_count": null,
   "metadata": {},
   "outputs": [],
   "source": "## Real-World Integration: API Client with Framework\n\nDemonstrating how Result<T> + QiError framework handles actual service integration scenarios."
  },
  {
   "id": "cell-13",
   "cell_type": "code",
   "metadata": {},
   "source": "// Real-world API integration using the framework\nimport { Result, success, failure, match, flatMap } from '@qi/base'\n\n// API domain extension of QiError framework\ninterface APIError extends QiError {\n    category: 'NETWORK' | 'AUTHENTICATION' | 'VALIDATION' | 'SYSTEM'\n    context: {\n        endpoint: string\n        method: string\n        statusCode?: number\n        responseTime?: number\n    }\n}\n\nfunction createAPIError(\n    code: string,\n    message: string,\n    category: APIError['category'],\n    context: Partial<APIError['context']>\n): APIError {\n    return { \n        code, \n        message, \n        category, \n        context: { endpoint: '', method: '', ...context }\n    }\n}\n\n// Simulate API calls with realistic failure scenarios\nasync function callExternalAPI(endpoint: string): Promise<Result<any, APIError>> {\n    const startTime = Date.now()\n    \n    // Simulate different failure modes\n    if (endpoint.includes('auth')) {\n        return failure(createAPIError(\n            'AUTH_FAILED',\n            'Invalid API key',\n            'AUTHENTICATION',\n            { endpoint, method: 'GET', statusCode: 401 }\n        ))\n    }\n    \n    if (endpoint.includes('timeout')) {\n        return failure(createAPIError(\n            'REQUEST_TIMEOUT',\n            'Request exceeded 30s timeout',\n            'NETWORK',\n            { endpoint, method: 'POST', responseTime: 30000 }\n        ))\n    }\n    \n    if (endpoint.includes('server-error')) {\n        return failure(createAPIError(\n            'INTERNAL_ERROR',\n            'Database connection failed',\n            'SYSTEM',\n            { endpoint, method: 'GET', statusCode: 500 }\n        ))\n    }\n    \n    // Success case\n    return success({ \n        data: `Response from ${endpoint}`,\n        timestamp: new Date().toISOString()\n    })\n}\n\n// Compose multiple API calls using Result<T> framework\nasync function fetchUserDashboard(userId: string): Promise<Result<any, APIError>> {\n    const profileResult = await callExternalAPI(`/users/${userId}/profile`)\n    if (profileResult.tag === 'failure') return profileResult\n    \n    const prefsResult = await callExternalAPI(`/users/${userId}/preferences`)  \n    if (prefsResult.tag === 'failure') return prefsResult\n    \n    const analyticsResult = await callExternalAPI(`/analytics/${userId}`)\n    if (analyticsResult.tag === 'failure') return analyticsResult\n    \n    return success({\n        profile: profileResult.value,\n        preferences: prefsResult.value,\n        analytics: analyticsResult.value\n    })\n}\n\n// Test with different scenarios\nconst testScenarios = [\n    'user123',           // Success\n    'auth-fail',         // Auth error\n    'timeout-user',      // Network timeout  \n    'server-error-user'  // System error\n]\n\nfor (const userId of testScenarios) {\n    console.log(`\\nFetching dashboard for: ${userId}`)\n    const result = await fetchUserDashboard(userId)\n    \n    match(\n        (dashboard) => console.log('✅ Dashboard loaded successfully'),\n        (error) => {\n            console.log(`❌ Failed: ${error.message}`)\n            console.log(`   Category: ${error.category}`)  \n            console.log(`   Context:`, error.context)\n            \n            // Framework enables consistent error handling strategies\n            switch (error.category) {\n                case 'NETWORK':\n                    console.log('   → Strategy: Retry with exponential backoff')\n                    break\n                case 'AUTHENTICATION':\n                    console.log('   → Strategy: Redirect to login')\n                    break\n                case 'SYSTEM':\n                    console.log('   → Strategy: Show maintenance message')\n                    break\n            }\n        },\n        result\n    )\n}",
   "execution_count": null,
   "outputs": []
  },
  {
   "id": "cell-14",
   "cell_type": "markdown",
   "execution_count": null,
   "metadata": {},
   "outputs": [],
   "source": "## Framework Benefits: Why This Approach Works\n\n**Lightweight & Extensible:**\n- Core framework in `@qi/base` stays minimal\n- Each domain builds specific extensions \n- No heavyweight dependencies or complex abstractions\n\n**Systematic Error Handling:**\n- Consistent structure across all domains\n- Categories drive retry strategies automatically  \n- Rich context enables effective debugging\n\n**Integration-Ready:**\n- Works with any external service or data source\n- Handles the reality of multiple failure points\n- Scales from simple APIs to complex service orchestration\n\n**Modern Development Alignment:**\n- Perfect for AI era: MCP servers, LLM APIs, agent toolsets\n- TypeScript ecosystem integration\n- Framework approach that grows with your application\n\n## Next Steps\n\n- **API Reference:** [docs/api/base/](../../api/base/) - Complete Result<T> and QiError documentation\n- **Usage Patterns:** [docs/tutorial/qi-base.md](../qi-base.md) - Real-world patterns and best practices  \n- **Working Examples:** [typescript/app/](../../../app/) - Production-ready implementations\n\n**Continue the series:** [02-qi-core.ipynb](./02-qi-core.ipynb) - Configuration, logging, and caching built on this foundation"
  },
  {
   "id": "cell-16",
   "cell_type": "code",
   "execution_count": null,
   "metadata": {},
   "outputs": [],
   "source": [
    "// Pattern 3: Domain-Specific Extensions\n",
    "console.log('=== Pattern 3: Domain-Specific Extensions ===')\n",
    "\n",
    "// Each domain extends QiError with its own context and categories\n",
    "console.log('Domain Extension Template:')\n",
    "console.log(`\n",
    "interface DomainError extends QiError {\n",
    "  category: 'SUBSET_OF_ERROR_CATEGORIES'  // Choose relevant categories\n",
    "  context: {\n",
    "    // Domain-specific fields\n",
    "    entityId?: string\n",
    "    operation?: string\n",
    "    businessData?: any\n",
    "  }\n",
    "}\n",
    "\n",
    "function createDomainError(\n",
    "  code: string,\n",
    "  message: string, \n",
    "  category: DomainError['category'],\n",
    "  context: DomainError['context'] = {}\n",
    "): DomainError { /* ... */ }\n",
    "`)\n",
    "\n",
    "// Show multiple domain examples\n",
    "const domainExamples = {\n",
    "  'Payment': {\n",
    "    categories: ['VALIDATION', 'NETWORK', 'BUSINESS'],\n",
    "    context: ['paymentId', 'amount', 'provider', 'cardLast4']\n",
    "  },\n",
    "  'User Management': {\n",
    "    categories: ['VALIDATION', 'AUTHENTICATION', 'AUTHORIZATION', 'BUSINESS'],\n",
    "    context: ['userId', 'email', 'operation', 'requiredRole']\n",
    "  },\n",
    "  'Order Processing': {\n",
    "    categories: ['VALIDATION', 'BUSINESS', 'SYSTEM'],\n",
    "    context: ['orderId', 'customerId', 'items', 'stage']\n",
    "  },\n",
    "  'File Operations': {\n",
    "    categories: ['VALIDATION', 'SYSTEM', 'RESOURCE'],\n",
    "    context: ['filePath', 'fileSize', 'operation', 'permissions']\n",
    "  }\n",
    "}\n",
    "\n",
    "console.log('\\nDomain Extension Examples:')\n",
    "Object.entries(domainExamples).forEach(([domain, spec]) => {\n",
    "  console.log(`\\n${domain}:`)\n",
    "  console.log(`  Categories: ${spec.categories.join(', ')}`)\n",
    "  console.log(`  Context: ${spec.context.join(', ')}`)\n",
    "})\n",
    "\n",
    "console.log('\\nPattern Benefits:')\n",
    "console.log('- Domain-specific debugging context')\n",
    "console.log('- Type safety per business domain')\n",
    "console.log('- Scalable error handling architecture')\n",
    "console.log('- Clear separation of concerns')"
   ]
  },
  {
   "id": "cell-18",
   "cell_type": "markdown",
   "metadata": {},
   "source": [
    "## Summary: The QiCore Base System\n",
    "\n",
    "After exploring contracts, logic, use cases, and patterns, we can see that `@qi/base` provides:\n",
    "\n",
    "### **Core Architecture**\n",
    "- **Result<T, E>**: Makes errors explicit in function signatures\n",
    "- **QiError**: Provides structured, categorized error information  \n",
    "- **Functional Operations**: Enable safe composition and transformation\n",
    "\n",
    "### **Key Patterns**\n",
    "1. **Explicit Error Contracts**: Every fallible function returns `Result<T, E>`\n",
    "2. **Category-Based Strategies**: Error categories determine retry/response logic\n",
    "3. **Domain Extensions**: Each business domain extends `QiError` with specific context\n",
    "4. **Functional Composition**: Chain operations with automatic error propagation\n",
    "\n",
    "### **Benefits**\n",
    "- **Type Safety**: Compile-time error checking\n",
    "- **Systematic Handling**: Consistent error strategies\n",
    "- **Rich Context**: Structured debugging information\n",
    "- **Composability**: Clean operation chaining\n",
    "- **Scalability**: Domain-specific error handling\n",
    "\n",
    "This foundation enables building reliable TypeScript applications with predictable, maintainable error handling."
   ]
  }
 ],
 "metadata": {
  "kernelspec": {
   "display_name": "Deno",
   "language": "typescript",
   "name": "deno"
  },
  "language_info": {
   "name": "typescript",
   "version": "5.3.3"
  }
 },
 "nbformat": 4,
 "nbformat_minor": 4
}